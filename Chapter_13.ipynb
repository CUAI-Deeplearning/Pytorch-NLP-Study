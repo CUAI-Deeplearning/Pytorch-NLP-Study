{
  "nbformat": 4,
  "nbformat_minor": 0,
  "metadata": {
    "colab": {
      "name": "Chapter 13.ipynb",
      "provenance": [],
      "private_outputs": true,
      "collapsed_sections": [],
      "authorship_tag": "ABX9TyO6iWOgV4bVtQEm3iFZrgOy",
      "include_colab_link": true
    },
    "kernelspec": {
      "name": "python3",
      "display_name": "Python 3"
    }
  },
  "cells": [
    {
      "cell_type": "markdown",
      "metadata": {
        "id": "view-in-github",
        "colab_type": "text"
      },
      "source": [
        "<a href=\"https://colab.research.google.com/github/CUAI-Deeplearning/Pytorch-NLP-Study/blob/stats/Chapter_13.ipynb\" target=\"_parent\"><img src=\"https://colab.research.google.com/assets/colab-badge.svg\" alt=\"Open In Colab\"/></a>"
      ]
    },
    {
      "cell_type": "markdown",
      "metadata": {
        "id": "lKseYw845Zum",
        "colab_type": "text"
      },
      "source": [
        "# 13. 듀얼리티의 활용\n",
        "## 13.1 들어가며\n",
        "\n",
        "* 듀얼리티(duality)\n",
        "  * 머신러닝을 통해 특정 도메인의 데이터 X를 받아 다른 도메인의 데이터 Y로 맵핑하는 함수를 근사\n",
        "  * 대부분의 머신러닝 데이터셋은 두 도메인 사이의 데이터로 구성된다.(오디오, 텍스트)\n",
        "\n",
        "  <img src=\"https://github.com/CUAI-Deeplearning/Pytorch-NLP-Study/blob/stats/%EA%B0%95%ED%98%B8%ED%98%84/asset/image1.png?raw=1\" width=\"50%\" height=\"50%\">\n"
      ]
    }
  ]
}
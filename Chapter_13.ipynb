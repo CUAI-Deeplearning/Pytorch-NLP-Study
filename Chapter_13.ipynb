{
  "nbformat": 4,
  "nbformat_minor": 0,
  "metadata": {
    "colab": {
      "name": "Chapter 13.ipynb",
      "provenance": [],
      "private_outputs": true,
      "collapsed_sections": [],
      "authorship_tag": "ABX9TyORTQoUuB8loeOfs82/RCy4",
      "include_colab_link": true
    },
    "kernelspec": {
      "name": "python3",
      "display_name": "Python 3"
    }
  },
  "cells": [
    {
      "cell_type": "markdown",
      "metadata": {
        "id": "view-in-github",
        "colab_type": "text"
      },
      "source": [
        "<a href=\"https://colab.research.google.com/github/CUAI-Deeplearning/Pytorch-NLP-Study/blob/stats/Chapter_13.ipynb\" target=\"_parent\"><img src=\"https://colab.research.google.com/assets/colab-badge.svg\" alt=\"Open In Colab\"/></a>"
      ]
    },
    {
      "cell_type": "markdown",
      "metadata": {
        "id": "lKseYw845Zum",
        "colab_type": "text"
      },
      "source": [
        "# 13. 듀얼리티의 활용\n",
        "## 13.1 들어가며\n",
        "\n",
        "* 듀얼리티(duality)\n",
        "  * 머신러닝을 통해 특정 도메인의 데이터 X를 받아 다른 도메인의 데이터 Y로 맵핑하는 함수를 근사\n",
        "  * 대부분의 머신러닝 데이터셋은 두 도메인 사이의 데이터로 구성된다.(오디오, 텍스트)\n",
        "\n",
        "  <img src=\"https://github.com/CUAI-Deeplearning/Pytorch-NLP-Study/blob/stats/%EA%B0%95%ED%98%B8%ED%98%84/asset/chap13/image1.png?raw=1\" width=\"50%\" height=\"50%\">\n"
      ]
    },
    {
      "cell_type": "markdown",
      "metadata": {
        "id": "zpq8YfQP9DKi",
        "colab_type": "text"
      },
      "source": [
        "* 듀얼리티 = 두 도메인 사이의 관계(음성 인식, 음성 합성)\n",
        "  * 대부분 머신러닝 문제가 가지는 듀얼리티 속성\n",
        "  * 기계번역 : 각 도메인 데이터 사이에 정보량 차이가 거의 없다(장점)\n",
        "  * 듀얼리티 적극적으로 활용하면 기계번역 고도화 가능하다."
      ]
    },
    {
      "cell_type": "markdown",
      "metadata": {
        "id": "fOys-93q9ewn",
        "colab_type": "text"
      },
      "source": [
        "* 데이터에 따른 듀얼리티 사례\n",
        "\n",
        "|$D_1$ 도메인 | $D_1 \\rightarrow D_2$ | $D_1 \\leftarrow D_2$ | $D_2 도메인$ |\n",
        "| :-------- | :---------------------| :-------------------- |:---------- |\n",
        "| 문장 | 기계번역 | 기계번역 | 문장 |\n",
        "| 음성 신호 | 음성 인식 | 음성 합성 | 문장 |\n",
        "| 이미지 | 이미지 분류 | 이미지 합성 | 클래스|\n",
        "| 문서 | 요약 | 본문 생성 | 문장 |\n",
        "| 문장 | 텍스트 분류 | 문장 생성 | 클래스 |"
      ]
    },
    {
      "cell_type": "markdown",
      "metadata": {
        "id": "frSAeuhG95gb",
        "colab_type": "text"
      },
      "source": [
        "### 13.1.2 CycleGAN\n",
        "\n",
        "* 번역 이외 듀얼리티, 영상 처리에 관한 논문 CycleGAN\n",
        "* cycleGAN\n",
        "  * 짝지어지지 않은 두 도메인의 이미지가 있을 때, X 도메인의 이미지를 Y 도메인의 이미지로 변환 방법\n",
        "  * 사진의 전체 구조 유지하되 유명한 화가 모네 풍으로 바꾸거나 말을 얼룩말 / 민무늬 변경\n",
        "  * 겨울 풍경을 여름 풍경으로 변화 가능\n",
        "  * 예제  \n",
        "    <img src=\"https://github.com/CUAI-Deeplearning/Pytorch-NLP-Study/blob/stats/%EA%B0%95%ED%98%B8%ED%98%84/asset/chap13/image2.jpg?raw=1\" width=\"100%\" height=\"50%\">"
      ]
    },
    {
      "cell_type": "markdown",
      "metadata": {
        "id": "pK2sieWp_FyQ",
        "colab_type": "text"
      },
      "source": [
        "* $X\\rightarrow{Y}$ 와 $Y\\rightarrow{X}$ : 모두 각각 생성자 $G, F$ 와 판별자 $D_x, D_y$ 를 가지고 있어서 최소/최대화 게임 수행\n",
        "* $G$ : $x$ 를 입력으로 받아 $\\hat{y}$ 으로 변환\n",
        "* $D_Y$ : $\\hat{y}$ 또는 $y$ 를 입력으로 받아 합성한 이미지인지 원래 $Y$ 도메인의 이미지인지 예측\n",
        "* $F$ : $y$ 를 입력으로 받아 $\\hat{x}$ 으로 변환\n",
        "* $D_x$ : $\\hat{x}$ 또는 $x$ 를 입력으로 받아 합성 유부를 판단"
      ]
    },
    {
      "cell_type": "markdown",
      "metadata": {
        "id": "dfEvwgGBAJiN",
        "colab_type": "text"
      },
      "source": [
        "<img src=\"https://github.com/CUAI-Deeplearning/Pytorch-NLP-Study/blob/stats/%EA%B0%95%ED%98%B8%ED%98%84/asset/chap13/image3.png?raw=1\" width=\"100%\" height=\"50%\">"
      ]
    },
    {
      "cell_type": "markdown",
      "metadata": {
        "id": "XyMkPt95AVMh",
        "colab_type": "text"
      },
      "source": [
        "* $\\hat{X}, \\hat{Y}$를 합성할 때 기존의 도메인 X, Y에 실제로 속하는 이미지처럼 만들어야 한다.\n",
        "* $\\hat{X}, \\hat{Y}$에서 원래 데이터로 돌아올 수 있어야 한다.\n",
        "$\\rightarrow$ 기계번역에 적용"
      ]
    },
    {
      "cell_type": "markdown",
      "metadata": {
        "id": "kYVq48cMBcLK",
        "colab_type": "text"
      },
      "source": [
        "## 13.2 듀얼리티를 활용한 지도학습\n",
        "* 듀얼 지도학습(DSL, Dual Supervised Learning)\n",
        "  * 기존의 teacher-forcing 문제로 생기는 어려움을 해결할 때 강화학습 대신 듀얼리티에서 regularization term 이끌어내 해결한다.\n",
        "  * 베이즈 정리에 따른 수식(항상 성립)\n",
        "  $$P(y|x) = {P(x|y)P(y)} \\over {P(x)}$$\n",
        "  $$P(y|x)P(x) = P(x|y)P(y)$$"
      ]
    },
    {
      "cell_type": "markdown",
      "metadata": {
        "id": "z6GbG9yZC8TU",
        "colab_type": "text"
      },
      "source": [
        "* 이 수식대로 훈련한 모델은 다음 수식을 만족한다.\n",
        "$$P(x)P(y|x;\\theta_{y\\rightarrow x}) = P(y)P(x|y;\\theta_{y\\rightarrow x})\n",
        "$$\n",
        "$$ \\text{where } (x,y) \\sim \\mathcal{B} = \\{x_i,y_i\\}_{i=1}^N$$"
      ]
    },
    {
      "cell_type": "markdown",
      "metadata": {
        "id": "DXT16-VXDLgT",
        "colab_type": "text"
      },
      "source": [
        "* 이 전제를 번역 훈련을 위한 목표에 적용한다.\n",
        "\n",
        "$$objective1: \\text{min}_{\\theta_{x\\rightarrow y}} {1 \\over n} \\sum_{i=1}^n \\ell_1(f(x_i;\\theta{x\\rightarrow y}),y_i), $$\n",
        "\n",
        "$$objective2: \\text{min}_{\\theta_{y\\rightarrow x}} {1 \\over n} \\sum_{i=1}^n \\ell_1(g(x_i;\\theta{y\\rightarrow x}),x_i), $$\n",
        "\n",
        "$$s.t. P(x) P(y|x;\\theta_{x\\rightarrow y}) = P(y) P(x|y; \\theta_{y\\rightarrow x}), \\forall x,y $$"
      ]
    },
    {
      "cell_type": "code",
      "metadata": {
        "id": "RvcE-15vEM8B",
        "colab_type": "code",
        "colab": {}
      },
      "source": [
        ""
      ],
      "execution_count": 0,
      "outputs": []
    }
  ]
}
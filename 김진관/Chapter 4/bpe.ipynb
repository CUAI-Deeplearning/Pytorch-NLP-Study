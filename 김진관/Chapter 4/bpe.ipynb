{
 "cells": [
  {
   "cell_type": "code",
   "execution_count": 1,
   "metadata": {},
   "outputs": [],
   "source": [
    "import sentencepiece as spm"
   ]
  },
  {
   "cell_type": "code",
   "execution_count": 4,
   "metadata": {},
   "outputs": [
    {
     "data": {
      "text/plain": [
       "True"
      ]
     },
     "execution_count": 4,
     "metadata": {},
     "output_type": "execute_result"
    }
   ],
   "source": [
    "spm.SentencePieceTrainer.Train('--input=train.txt --model_prefix=m --vocab_size=1000 --hard_vocab_limit=false')"
   ]
  },
  {
   "cell_type": "code",
   "execution_count": 5,
   "metadata": {},
   "outputs": [
    {
     "data": {
      "text/plain": [
       "True"
      ]
     },
     "execution_count": 5,
     "metadata": {},
     "output_type": "execute_result"
    }
   ],
   "source": [
    "sp = spm.SentencePieceProcessor()\n",
    "sp.Load(\"m.model\")"
   ]
  },
  {
   "cell_type": "code",
   "execution_count": 7,
   "metadata": {},
   "outputs": [
    {
     "data": {
      "text/plain": [
       "['▁',\n",
       " 'N',\n",
       " 'at',\n",
       " 'u',\n",
       " 'r',\n",
       " 'al',\n",
       " '▁',\n",
       " 'la',\n",
       " 'ng',\n",
       " 'u',\n",
       " 'a',\n",
       " 'ge',\n",
       " '▁p',\n",
       " 'ro',\n",
       " 'c',\n",
       " 'es',\n",
       " 's',\n",
       " 'i',\n",
       " 'ng',\n",
       " '▁i',\n",
       " 's',\n",
       " '▁',\n",
       " 'on',\n",
       " 'e',\n",
       " '▁o',\n",
       " 'f',\n",
       " '▁b',\n",
       " 'ig',\n",
       " 'ges',\n",
       " 't',\n",
       " '▁st',\n",
       " 'rea',\n",
       " 'm',\n",
       " 's',\n",
       " '▁in',\n",
       " '▁ar',\n",
       " 'ti',\n",
       " 'f',\n",
       " 'i',\n",
       " 'c',\n",
       " 'i',\n",
       " 'al',\n",
       " '▁intelligence',\n",
       " ',',\n",
       " '▁',\n",
       " 'an',\n",
       " 'd',\n",
       " '▁i',\n",
       " 't',\n",
       " '▁be',\n",
       " 'c',\n",
       " 'o',\n",
       " 'm',\n",
       " 'es',\n",
       " '▁',\n",
       " 'ver',\n",
       " 'y',\n",
       " '▁p',\n",
       " 'o',\n",
       " 'p',\n",
       " 'u',\n",
       " 'la',\n",
       " 'r',\n",
       " '▁a',\n",
       " 'f',\n",
       " 't',\n",
       " 'er',\n",
       " '▁',\n",
       " 'seq',\n",
       " '2',\n",
       " 'seq',\n",
       " \"'\",\n",
       " 's',\n",
       " '▁in',\n",
       " 've',\n",
       " 'n',\n",
       " 'ti',\n",
       " 'on',\n",
       " '.',\n",
       " '▁',\n",
       " 'H',\n",
       " 'o',\n",
       " 'we',\n",
       " 'ver',\n",
       " ',',\n",
       " '▁in',\n",
       " '▁o',\n",
       " 'r',\n",
       " 'd',\n",
       " 'er',\n",
       " '▁t',\n",
       " 'o',\n",
       " '▁ma',\n",
       " 'k',\n",
       " 'e',\n",
       " '▁a',\n",
       " '▁str',\n",
       " 'o',\n",
       " 'ng',\n",
       " '▁',\n",
       " 'A',\n",
       " '.',\n",
       " 'I',\n",
       " '.',\n",
       " ',',\n",
       " '▁the',\n",
       " 're',\n",
       " '▁ar',\n",
       " 'e',\n",
       " '▁st',\n",
       " 'i',\n",
       " 'll',\n",
       " '▁ma',\n",
       " 'n',\n",
       " 'y',\n",
       " '▁c',\n",
       " 'ha',\n",
       " 'll',\n",
       " 'en',\n",
       " 'ges',\n",
       " '▁',\n",
       " 're',\n",
       " 'ma',\n",
       " 'in',\n",
       " '.',\n",
       " '▁',\n",
       " 'I',\n",
       " '▁be',\n",
       " 'li',\n",
       " 'eve',\n",
       " '▁th',\n",
       " 'at',\n",
       " '▁',\n",
       " 'we',\n",
       " '▁c',\n",
       " 'an',\n",
       " '▁b',\n",
       " 're',\n",
       " 'ak',\n",
       " 'th',\n",
       " 'ro',\n",
       " 'u',\n",
       " 'g',\n",
       " 'h',\n",
       " '▁the',\n",
       " 'se',\n",
       " '▁b',\n",
       " 'ar',\n",
       " 'r',\n",
       " 'i',\n",
       " 'er',\n",
       " 's',\n",
       " '▁t',\n",
       " 'o',\n",
       " '▁',\n",
       " 'ge',\n",
       " 't',\n",
       " '▁str',\n",
       " 'o',\n",
       " 'ng',\n",
       " '▁ar',\n",
       " 'ti',\n",
       " 'f',\n",
       " 'i',\n",
       " 'c',\n",
       " 'i',\n",
       " 'al',\n",
       " '▁intelligence',\n",
       " '.']"
      ]
     },
     "execution_count": 7,
     "metadata": {},
     "output_type": "execute_result"
    }
   ],
   "source": [
    "sp.EncodeAsPieces(\"\"\"Natural language processing is one of biggest streams in artificial intelligence, and it becomes very popular after seq2seq's invention.\n",
    "However, in order to make a strong A.I., there are still many challenges remain.\n",
    "I believe that we can breakthrough these barriers to get strong artificial intelligence.\"\"\")"
   ]
  },
  {
   "cell_type": "code",
   "execution_count": null,
   "metadata": {},
   "outputs": [],
   "source": []
  }
 ],
 "metadata": {
  "kernelspec": {
   "display_name": "Python 3",
   "language": "python",
   "name": "python3"
  },
  "language_info": {
   "codemirror_mode": {
    "name": "ipython",
    "version": 3
   },
   "file_extension": ".py",
   "mimetype": "text/x-python",
   "name": "python",
   "nbconvert_exporter": "python",
   "pygments_lexer": "ipython3",
   "version": "3.7.5"
  }
 },
 "nbformat": 4,
 "nbformat_minor": 2
}

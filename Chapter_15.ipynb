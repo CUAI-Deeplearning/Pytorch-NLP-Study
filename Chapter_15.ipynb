{
  "nbformat": 4,
  "nbformat_minor": 0,
  "metadata": {
    "colab": {
      "name": "Chapter 15.ipynb",
      "provenance": [],
      "private_outputs": true,
      "authorship_tag": "ABX9TyOaBe/jE0EkrRpJKGIKVZMg",
      "include_colab_link": true
    },
    "kernelspec": {
      "name": "python3",
      "display_name": "Python 3"
    }
  },
  "cells": [
    {
      "cell_type": "markdown",
      "metadata": {
        "id": "view-in-github",
        "colab_type": "text"
      },
      "source": [
        "<a href=\"https://colab.research.google.com/github/CUAI-Deeplearning/Pytorch-NLP-Study/blob/stats/Chapter_15.ipynb\" target=\"_parent\"><img src=\"https://colab.research.google.com/assets/colab-badge.svg\" alt=\"Open In Colab\"/></a>"
      ]
    },
    {
      "cell_type": "markdown",
      "metadata": {
        "id": "qv_hpmFJSo_J",
        "colab_type": "text"
      },
      "source": [
        "# Chapter 15. 전이학습\n",
        "* 전이학습이란?\n",
        "* 기존의 사전 훈련 방식\n",
        "* ELMO\n",
        "* BERT\n",
        "* OpenAI의 GPT-2"
      ]
    },
    {
      "cell_type": "markdown",
      "metadata": {
        "id": "xYljIA2fS8c-",
        "colab_type": "text"
      },
      "source": [
        "## 15.1 전이학습이란?\n",
        "\n",
        "* 신경망의 일부 또는 전체 신경망 가중치 파라미터를 MLE로 훈련시키기 전에 다른 데이터셋이나 목적 함수를 사용해 미리 훈련한 후에 본격적인 학습에서 신경망 가중치 파라미터를 더 쉽게 최적화하는 것이다.\n",
        "* "
      ]
    }
  ]
}
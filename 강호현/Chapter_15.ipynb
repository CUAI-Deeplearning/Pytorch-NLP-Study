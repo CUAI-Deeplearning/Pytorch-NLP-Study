{
  "nbformat": 4,
  "nbformat_minor": 0,
  "metadata": {
    "colab": {
      "name": "Chapter 15.ipynb",
      "provenance": [],
      "private_outputs": true,
      "collapsed_sections": [],
      "authorship_tag": "ABX9TyM6eaiVO0MVftJcem6G4u9f",
      "include_colab_link": true
    },
    "kernelspec": {
      "name": "python3",
      "display_name": "Python 3"
    }
  },
  "cells": [
    {
      "cell_type": "markdown",
      "metadata": {
        "id": "view-in-github",
        "colab_type": "text"
      },
      "source": [
        "<a href=\"https://colab.research.google.com/github/CUAI-Deeplearning/Pytorch-NLP-Study/blob/stats/%EA%B0%95%ED%98%B8%ED%98%84/Chapter_15.ipynb\" target=\"_parent\"><img src=\"https://colab.research.google.com/assets/colab-badge.svg\" alt=\"Open In Colab\"/></a>"
      ]
    },
    {
      "cell_type": "markdown",
      "metadata": {
        "id": "qv_hpmFJSo_J",
        "colab_type": "text"
      },
      "source": [
        "# Chapter 15. 전이학습\n",
        "* 전이학습이란?\n",
        "* 기존의 사전 훈련 방식\n",
        "* ELMO\n",
        "* BERT\n",
        "* OpenAI의 GPT-2"
      ]
    },
    {
      "cell_type": "markdown",
      "metadata": {
        "id": "xYljIA2fS8c-",
        "colab_type": "text"
      },
      "source": [
        "## 15.1 전이학습이란?\n",
        "\n",
        "* 신경망의 일부 또는 전체 신경망 가중치 파라미터를 MLE로 훈련시키기 전에 다른 데이터셋이나 목적 함수를 사용해 미리 훈련한 후에 본격적인 학습에서 신경망 가중치 파라미터를 더 쉽게 최적화하는 것이다.\n",
        "* 영상처리와 다르게 자연어 처리 분야는 전이학습보다 본직적인 문제 해결에 집중했다.\n",
        "  * 현재는 전이학습 방법이 뛰어난 성능을 보이며 주류가 되고 있다.\n",
        "* 전이학습\n",
        "  * 더 넓은 범위의 목적을 갖는 비지도학습 문제의 전역 최소점이 더 작은 범위의 목적을 갖는 지도학습 문제의 전역 최소점을 포함할 것이다.\n",
        "  * 비지도학습을 통해 지역 최소점을 찾으면 추가로 지도학습에서 더 낮은 지역 최소점에 도달할 것이다.\n",
        "  * 최근 모델이 깊고 넓어서 많은 가중치 파라미터를 가지면 지역 최소점문제가 자연스럽게 해결될 것으로 본다.\n",
        "  * 랜덤 초깃값에서 최적화 시작 : 데이터셋의 노이즈와 경사하강법 한계\n",
        "  * 사전 훈련된 가중치 파라미터 값에서 최적화 시작 : 좀더 높은 성능 기대 가능\n",
        "    * 완전히 다른 성격의 데이터셋이나 문제는 도움이 되지 않을 수 있다.\n",
        "  * 사전 훈련에 사용된 훈련 데이터셋이 매우 방대하고 자세한 정보를 담는다면, 새로운 문제 위한 데이터셋에 없던 정보를 가질 수 있다.\n",
        "    * 해결 능력을 추가로 얻게 되고 사전 훈련 덕분에 성능 향상이 가능하다."
      ]
    },
    {
      "cell_type": "markdown",
      "metadata": {
        "id": "mGnJU7JPZOqe",
        "colab_type": "text"
      },
      "source": [
        "## 15.2 기존의 사전 훈련 방식\n",
        "* word2vec이후 사전 훈련된 단어 임베딩 벡터로 딥러닝 모델 개선\n",
        "  * 딥러닝 모델에서는 이 방식은 큰 효과가 없다.\n",
        "* 사전 훈련된 단어 임베딩 벡터를 텍스트 분류와 같은 문제 적용시 방법 소개\n",
        "  * 기존의 단어 임베딩 벡터 방법을 전이학습에 적용하는 법\n",
        "  * RNN 텍스트 분류 신경망 가정\n",
        "    * 1번 데이터셋에서 데이터 x, y를 받아 훈련하는 신경망 \n",
        "    $\\{\\theta, W_{emb}, W_{softmax}\\}$\n",
        "  * 신경망 : 소프트맥스 계층 + RNN 계층 + 임베딩 계층 구성\n",
        "  * 원핫 인코딩 벡터들을 문장 내 단어 대신 입력 x로 넣고 신경망 $f_{\\theta}$ 통과시켜 클래스 예측하는 분포 $\\hat{y}$ 반환하도록 구성한다.\n",
        "    * 원핫 인코딩 벡터에서 1 위치 값만 반환\n",
        "    * 임베딩 계층의 가중치 파라미터 $W$의 각 행 = 해당 단어의 임베딩 벡터\n",
        "\n"
      ]
    },
    {
      "cell_type": "markdown",
      "metadata": {
        "id": "ihgfhK7CdaTc",
        "colab_type": "text"
      },
      "source": [
        "### 15.2.1 사전 훈련된 가중치 파라미터 사용 방법\n",
        "> 신경망 가중치 파라미터 초깃값으로 사용  \n",
        "\n",
        "* 각 단어의 임베딩 벡터를 사전 훈련한 단어 임베딩 벡터로 치환하여 사용\n",
        "$\\rightarrow$ 해당 임베딩 계층의 가중치 파라미터 값, 기타 신경망의 랜덤 초기화된 가중치 파라미터 값에 대해 역전파 알고리즘과 경사하강법을 통해 학습 수행\n",
        "\n",
        "* 0번 데이터셋을 통해 사전 훈련한 단어 임베딩 벡터를 임베딩 계층에 적용\n",
        "\n",
        "\n",
        "![../asset/image1.png](./강호현/asset/image1.png)"
      ]
    },
    {
      "cell_type": "code",
      "metadata": {
        "id": "t9oGdQn_dhx1",
        "colab_type": "code",
        "colab": {}
      },
      "source": [
        ""
      ],
      "execution_count": 0,
      "outputs": []
    }
  ]
}
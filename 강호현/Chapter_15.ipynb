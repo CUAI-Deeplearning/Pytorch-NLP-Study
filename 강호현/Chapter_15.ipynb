{
  "nbformat": 4,
  "nbformat_minor": 0,
  "metadata": {
    "colab": {
      "name": "Chapter 15.ipynb",
      "provenance": [],
      "private_outputs": true,
      "collapsed_sections": [],
      "authorship_tag": "ABX9TyMw/5PICqy65VMT12sZmVt8",
      "include_colab_link": true
    },
    "kernelspec": {
      "name": "python3",
      "display_name": "Python 3"
    }
  },
  "cells": [
    {
      "cell_type": "markdown",
      "metadata": {
        "id": "view-in-github",
        "colab_type": "text"
      },
      "source": [
        "<a href=\"https://colab.research.google.com/github/CUAI-Deeplearning/Pytorch-NLP-Study/blob/stats/%EA%B0%95%ED%98%B8%ED%98%84/Chapter_15.ipynb\" target=\"_parent\"><img src=\"https://colab.research.google.com/assets/colab-badge.svg\" alt=\"Open In Colab\"/></a>"
      ]
    },
    {
      "cell_type": "markdown",
      "metadata": {
        "id": "qv_hpmFJSo_J",
        "colab_type": "text"
      },
      "source": [
        "# Chapter 15. 전이학습\n",
        "* 전이학습이란?\n",
        "* 기존의 사전 훈련 방식\n",
        "* ELMO\n",
        "* BERT\n",
        "* OpenAI의 GPT-2"
      ]
    },
    {
      "cell_type": "markdown",
      "metadata": {
        "id": "xYljIA2fS8c-",
        "colab_type": "text"
      },
      "source": [
        "## 15.1 전이학습이란?\n",
        "\n",
        "* 신경망의 일부 또는 전체 신경망 가중치 파라미터를 MLE로 훈련시키기 전에 다른 데이터셋이나 목적 함수를 사용해 미리 훈련한 후에 본격적인 학습에서 신경망 가중치 파라미터를 더 쉽게 최적화하는 것이다.\n",
        "* 영상처리와 다르게 자연어 처리 분야는 전이학습보다 본직적인 문제 해결에 집중했다.\n",
        "  * 현재는 전이학습 방법이 뛰어난 성능을 보이며 주류가 되고 있다.\n",
        "* 전이학습\n",
        "  * 더 넓은 범위의 목적을 갖는 비지도학습 문제의 전역 최소점이 더 작은 범위의 목적을 갖는 지도학습 문제의 전역 최소점을 포함할 것이다.\n",
        "  * 비지도학습을 통해 지역 최소점을 찾으면 추가로 지도학습에서 더 낮은 지역 최소점에 도달할 것이다.\n",
        "  * 최근 모델이 깊고 넓어서 많은 가중치 파라미터를 가지면 지역 최소점문제가 자연스럽게 해결될 것으로 본다.\n",
        "  * 랜덤 초깃값에서 최적화 시작 : 데이터셋의 노이즈와 경사하강법 한계\n",
        "  * 사전 훈련된 가중치 파라미터 값에서 최적화 시작 : 좀더 높은 성능 기대 가능\n",
        "    * 완전히 다른 성격의 데이터셋이나 문제는 도움이 되지 않을 수 있다.\n",
        "  * 사전 훈련에 사용된 훈련 데이터셋이 매우 방대하고 자세한 정보를 담는다면, 새로운 문제 위한 데이터셋에 없던 정보를 가질 수 있다.\n",
        "    * 해결 능력을 추가로 얻게 되고 사전 훈련 덕분에 성능 향상이 가능하다."
      ]
    },
    {
      "cell_type": "markdown",
      "metadata": {
        "id": "mGnJU7JPZOqe",
        "colab_type": "text"
      },
      "source": [
        "## 15.2 기존의 사전 훈련 방식\n",
        "* word2vec이후 사전 훈련된 단어 임베딩 벡터로 딥러닝 모델 개선\n",
        "  * 딥러닝 모델에서는 이 방식은 큰 효과가 없다.\n",
        "* 사전 훈련된 단어 임베딩 벡터를 텍스트 분류와 같은 문제 적용시 방법 소개\n",
        "  * 기존의 단어 임베딩 벡터 방법을 전이학습에 적용하는 법\n",
        "  * RNN 텍스트 분류 신경망 가정\n",
        "  \n",
        "\n"
      ]
    }
  ]
}
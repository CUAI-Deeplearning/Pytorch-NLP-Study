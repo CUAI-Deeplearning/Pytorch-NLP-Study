{
  "nbformat": 4,
  "nbformat_minor": 0,
  "metadata": {
    "colab": {
      "name": "Chapter 13.ipynb",
      "provenance": [],
      "private_outputs": true,
      "collapsed_sections": [],
      "authorship_tag": "ABX9TyNLJQDEwVYl/bbGvcGcMBw9",
      "include_colab_link": true
    },
    "kernelspec": {
      "name": "python3",
      "display_name": "Python 3"
    }
  },
  "cells": [
    {
      "cell_type": "markdown",
      "metadata": {
        "id": "view-in-github",
        "colab_type": "text"
      },
      "source": [
        "<a href=\"https://colab.research.google.com/github/CUAI-Deeplearning/Pytorch-NLP-Study/blob/stats/%EA%B0%95%ED%98%B8%ED%98%84/Chapter13.ipynb\" target=\"_parent\"><img src=\"https://colab.research.google.com/assets/colab-badge.svg\" alt=\"Open In Colab\"/></a>"
      ]
    },
    {
      "cell_type": "markdown",
      "metadata": {
        "id": "lKseYw845Zum",
        "colab_type": "text"
      },
      "source": [
        "# 13. 듀얼리티의 활용\n",
        "## 13.1 들어가며\n",
        "\n",
        "* 듀얼리티(duality)\n",
        "  * 머신러닝을 통해 특정 도메인의 데이터 X를 받아 다른 도메인의 데이터 Y로 맵핑하는 함수를 근사\n",
        "  * 대부분의 머신러닝 데이터셋은 두 도메인 사이의 데이터로 구성된다.(오디오, 텍스트)\n",
        "\n",
        "  <img src=\"https://github.com/CUAI-Deeplearning/Pytorch-NLP-Study/blob/stats/%EA%B0%95%ED%98%B8%ED%98%84/asset/chap13/image1.png?raw=1\" width=\"50%\" height=\"50%\">\n"
      ]
    },
    {
      "cell_type": "markdown",
      "metadata": {
        "id": "zpq8YfQP9DKi",
        "colab_type": "text"
      },
      "source": [
        "* 듀얼리티 = 두 도메인 사이의 관계(음성 인식, 음성 합성)\n",
        "  * 대부분 머신러닝 문제가 가지는 듀얼리티 속성\n",
        "  * 기계번역 : 각 도메인 데이터 사이에 정보량 차이가 거의 없다(장점)\n",
        "  * 듀얼리티 적극적으로 활용하면 기계번역 고도화 가능하다."
      ]
    },
    {
      "cell_type": "markdown",
      "metadata": {
        "id": "fOys-93q9ewn",
        "colab_type": "text"
      },
      "source": [
        "* 데이터에 따른 듀얼리티 사례\n",
        "\n",
        "|$D_1$ 도메인 | $D_1 \\rightarrow D_2$ | $D_1 \\leftarrow D_2$ | $D_2$ 도메인 |\n",
        "| :-------- | :---------------------| :-------------------- |:---------- |\n",
        "| 문장 | 기계번역 | 기계번역 | 문장 |\n",
        "| 음성 신호 | 음성 인식 | 음성 합성 | 문장 |\n",
        "| 이미지 | 이미지 분류 | 이미지 합성 | 클래스|\n",
        "| 문서 | 요약 | 본문 생성 | 문장 |\n",
        "| 문장 | 텍스트 분류 | 문장 생성 | 클래스 |"
      ]
    },
    {
      "cell_type": "markdown",
      "metadata": {
        "id": "frSAeuhG95gb",
        "colab_type": "text"
      },
      "source": [
        "### 13.1.2 CycleGAN\n",
        "\n",
        "* 번역 이외 듀얼리티, 영상 처리에 관한 논문 CycleGAN\n",
        "* cycleGAN\n",
        "  * 짝지어지지 않은 두 도메인의 이미지가 있을 때, X 도메인의 이미지를 Y 도메인의 이미지로 변환 방법\n",
        "  * 사진의 전체 구조 유지하되 유명한 화가 모네 풍으로 바꾸거나 말을 얼룩말 / 민무늬 변경\n",
        "  * 겨울 풍경을 여름 풍경으로 변화 가능\n",
        "  * 예제  \n",
        "    <img src=\"https://github.com/CUAI-Deeplearning/Pytorch-NLP-Study/blob/stats/%EA%B0%95%ED%98%B8%ED%98%84/asset/chap13/image2.jpg?raw=1\" width=\"100%\" height=\"50%\">"
      ]
    },
    {
      "cell_type": "markdown",
      "metadata": {
        "id": "pK2sieWp_FyQ",
        "colab_type": "text"
      },
      "source": [
        "* $X\\rightarrow{Y}$ 와 $Y\\rightarrow{X}$ : 모두 각각 생성자 $G, F$ 와 판별자 $D_x, D_y$ 를 가지고 있어서 최소/최대화 게임 수행\n",
        "* $G$ : $x$ 를 입력으로 받아 $\\hat{y}$ 으로 변환\n",
        "* $D_Y$ : $\\hat{y}$ 또는 $y$ 를 입력으로 받아 합성한 이미지인지 원래 $Y$ 도메인의 이미지인지 예측\n",
        "* $F$ : $y$ 를 입력으로 받아 $\\hat{x}$ 으로 변환\n",
        "* $D_x$ : $\\hat{x}$ 또는 $x$ 를 입력으로 받아 합성 유부를 판단"
      ]
    },
    {
      "cell_type": "markdown",
      "metadata": {
        "id": "dfEvwgGBAJiN",
        "colab_type": "text"
      },
      "source": [
        "<img src=\"https://github.com/CUAI-Deeplearning/Pytorch-NLP-Study/blob/stats/%EA%B0%95%ED%98%B8%ED%98%84/asset/chap13/image3.png?raw=1\" width=\"100%\" height=\"50%\">"
      ]
    },
    {
      "cell_type": "markdown",
      "metadata": {
        "id": "XyMkPt95AVMh",
        "colab_type": "text"
      },
      "source": [
        "* $\\hat{X}, \\hat{Y}$를 합성할 때 기존의 도메인 X, Y에 실제로 속하는 이미지처럼 만들어야 한다.\n",
        "* $\\hat{X}, \\hat{Y}$에서 원래 데이터로 돌아올 수 있어야 한다.\n",
        "$\\rightarrow$ 기계번역에 적용"
      ]
    },
    {
      "cell_type": "markdown",
      "metadata": {
        "id": "kYVq48cMBcLK",
        "colab_type": "text"
      },
      "source": [
        "## 13.2 듀얼리티를 활용한 지도학습\n",
        "* 듀얼 지도학습(DSL, Dual Supervised Learning)\n",
        "  * 기존의 teacher-forcing 문제로 생기는 어려움을 해결할 때 강화학습 대신 듀얼리티에서 regularization term 이끌어내 해결한다.\n",
        "  * 베이즈 정리에 따른 수식(항상 성립)\n",
        "  $$P(y|x) = {P(x|y)P(y)} \\over {P(x)}$$\n",
        "  $$P(y|x)P(x) = P(x|y)P(y)$$"
      ]
    },
    {
      "cell_type": "markdown",
      "metadata": {
        "id": "z6GbG9yZC8TU",
        "colab_type": "text"
      },
      "source": [
        "* 이 수식대로 훈련한 모델은 다음 수식을 만족한다.\n",
        "$$P(x)P(y|x;\\theta_{y\\rightarrow x}) = P(y)P(x|y;\\theta_{y\\rightarrow x})\n",
        "$$\n",
        "$$ \\text{where } (x,y) \\sim \\mathcal{B} = \\{x_i,y_i\\}_{i=1}^N$$"
      ]
    },
    {
      "cell_type": "markdown",
      "metadata": {
        "id": "DXT16-VXDLgT",
        "colab_type": "text"
      },
      "source": [
        "* 이 전제를 번역 훈련을 위한 목표에 적용한다.\n",
        "\n",
        "$$objective1: \\text{min}_{\\theta_{x\\rightarrow y}} {1 \\over n} \\sum_{i=1}^n \\ell_1(f(x_i;\\theta{x\\rightarrow y}),y_i), $$\n",
        "\n",
        "$$objective2: \\text{min}_{\\theta_{y\\rightarrow x}} {1 \\over n} \\sum_{i=1}^n \\ell_1(g(x_i;\\theta{y\\rightarrow x}),x_i), $$\n",
        "\n",
        "$$s.t. P(x) P(y|x;\\theta_{x\\rightarrow y}) = P(y) P(x|y; \\theta_{y\\rightarrow x}), \\forall x,y $$"
      ]
    },
    {
      "cell_type": "markdown",
      "metadata": {
        "id": "RvcE-15vEM8B",
        "colab_type": "text"
      },
      "source": [
        "* 해석\n",
        "  * 목표 1 : 베이즈 정리에 따른 제약 조건 만족함과 동시에 $\\ell_1$을 최소화\n",
        "    * $\\ell_1$ : 번역함수 f에 입력 $x_i$를 넣어 나온 반환값과 $y_i$ 사이 손실\n",
        "  * 목표 2 : $\\ell_2$를 번역함수 $g$에 대해 같은 작업 수행하고 최소화하여 만족시킨다.\n",
        "    * $\\ell_2$ : 번역함수 g에 입력 $x_i$를 넣어 나온 반환값과 $y_i$ 사이 손실\n"
      ]
    },
    {
      "cell_type": "markdown",
      "metadata": {
        "id": "5gFe9STLG0Zb",
        "colab_type": "text"
      },
      "source": [
        "$\\mathcal{L}_{duality} = |\\left(\\log \\hat{P}(x) + \\log P(y|x;\\theta_{x\\rightarrow y})\\right) - \\left(\\log \\hat{P}(y) + \\log P(x|y;\\theta_{y\\rightarrow x})\\right) |^2$\n",
        "\n",
        "* 베이즈 정리에 따른 제약 조건의 양 변의 값의 차이를 최소화하는 MSE 손실 함수\n",
        "* 동시에 훈련시키는 신경망 가중치 파라미터 $\\rightarrow$ 각각 $\\log P(y|x;\\theta_{x\\rightarrow y}),\\log P(x|y;\\theta_{y\\rightarrow x}) $ 구한다.\n",
        "* 단일 언어 코퍼스로 미리 훈련시킨 언어 모델 $\\rightarrow \\log \\hat{P}(x), \\log \\hat{P}(y)$ 근사 가능하다."
      ]
    },
    {
      "cell_type": "markdown",
      "metadata": {
        "id": "lkbVXCp3LIzE",
        "colab_type": "text"
      },
      "source": [
        "* 기존의 손실 함수에 추가하여 동시에 최소화\n",
        "\n",
        "$$ \\theta_{x \\rightarrow y} \\leftarrow \\theta_{x \\rightarrow y} - \\gamma \\triangledown_{\\theta_{x \\rightarrow y}} {1 \\over n} \\sum_{i=1}^n [\\ell_1(f(x_i;\\theta_{x\\rightarrow y}),y_i) + \\lambda_{x \\rightarrow y} \\mathcal{L}_{duality}]\n",
        "$$\n",
        "\n",
        "\n",
        "$$ \\theta_{y \\rightarrow x} \\leftarrow \\theta_{y \\rightarrow x} - \\gamma \\triangledown_{\\theta_{y \\rightarrow x}} {1 \\over n} \\sum_{i=1}^n [\\ell_2(g(y_i;\\theta_{y\\rightarrow x}),x_i) + \\lambda_{y \\rightarrow x} \\mathcal{L}_{duality}]$$\n",
        "\n",
        "\n",
        "* $\\lambda$를 통해 손실함수 내 비율 조절 가능\n",
        "  * $\\lambda$ 는 하이퍼 파라미터, 0.01일 때 가장 좋은 성능을 보인다.\n",
        "  * DSL 방식이 기존의 teacher-forcing, MLE / MRT 보다 더 높은 성능을 보인다.\n",
        "  * Regularization term을 추가하여 훈련 까다롭고 비효율적인 강화학습보다 나은 성능을 보인다."
      ]
    },
    {
      "cell_type": "markdown",
      "metadata": {
        "id": "erIULVrJH0uv",
        "colab_type": "text"
      },
      "source": [
        "### 13.2.1 파이토치 예제 코드"
      ]
    },
    {
      "cell_type": "code",
      "metadata": {
        "id": "PwS4_bpqH7aK",
        "colab_type": "code",
        "colab": {}
      },
      "source": [
        "# simple_nmt와 dual_trainer.py\n",
        "X2Y, Y2X = 0, 1"
      ],
      "execution_count": 0,
      "outputs": []
    },
    {
      "cell_type": "code",
      "metadata": {
        "id": "h6m-s-T7OkuV",
        "colab_type": "code",
        "colab": {}
      },
      "source": [
        "def _reordering(self, x, y, l):\n",
        "  indice = l.topk(l.size(0))[1]\n",
        "  x_ = x.index_select(dim=0, index=indice).contiguous()\n",
        "  y_ = y.index_select(dim=0, index=indice).contiguous()\n",
        "  l_ = l.index_select(dim=0, index=indice).contiguous()\n",
        "\n",
        "  restore_indice = (-indice).topk(l.size(0))[1]\n",
        "\n",
        "  return x_,y_,l_, restore_indice"
      ],
      "execution_count": 0,
      "outputs": []
    },
    {
      "cell_type": "code",
      "metadata": {
        "id": "lXRmVOeASrMb",
        "colab_type": "code",
        "colab": {}
      },
      "source": [
        "def _get_loss(self, x, y, x_hat, y_hat, x_lm=None, y_lm=None, lagrange=1e-3):\n",
        "\n",
        "  losses = []\n",
        "  losses += [self.crits[X2Y](y_hat.contiguous().view(-1, y_hat.size(-1)),\n",
        "                             y.contiguous().view(-1)\n",
        "                             )]\n",
        "  losses += [self.crits[Y2X](x_hat.contiguous().view(-1, x_hat.size(-1)),\n",
        "                             x.contiguous().view(-1)\n",
        "                             )]\n",
        "\n",
        "  losses[X2Y] = losses[X2Y].view(y.size(0), -1).sum(dim=-1)\n",
        "  losses[Y2X] = losses[Y2X].view(x.size(0), -1).sum(dim=-1)\n",
        "\n",
        "  if x_lm is not None and y_lm is not None:\n",
        "    lm_losses = []\n",
        "    lm_losses += [self.crits[X2Y](y_lm.contiguous().view(-1, y_lm.size(-1)),\n",
        "                                  y.contiguous().view(-1)\n",
        "                                  )]\n",
        "    lm_losses += [self.crits[Y2X](x_lm.contiguous().view(-1, x_lm.size(-1)),\n",
        "                                  x.contiguous().view(-1)\n",
        "                                  )]\n",
        "    \n",
        "    lm_losses[X2Y] = lm_losses[X2Y].view(y.size(0), -1).sum(dim=-1)\n",
        "    lm_losses[Y2X] = lm_losses[Y2X].view(x.size(0), -1).sum(dim=-1)\n",
        "\n",
        "    dual_loss = lagrange * ((-lm_losses[Y2X] + -losses[X2Y].detach()) - \\\n",
        "                            (-lm_losses[X2Y] + -losses[Y2X].detach()))**2\n",
        "\n",
        "    dual_loss_x2y = lagrange * ((-lm_losses[Y2X] + -losses[X2Y]) - \\\n",
        "                                (-lm_losses[X2Y] + -losses[Y2X].detach()))**2\n",
        "    dual_loss_y2x = lagrange * ((-lm_losses[Y2X] + -losses[X2Y].detach()) - \\\n",
        "                                (-lm_losses[X2Y] + -losses[Y2X]))**2\n",
        "    \n",
        "    losses[X2Y] += dual_loss_x2y\n",
        "    losses[Y2X] += dual_loss_y2x\n",
        "\n",
        "\n",
        "  if x_lm is not None and y_lm is not None:\n",
        "    return losses[X2Y].sum(), losses[Y2X].sum(), dual_loss.sum()\n",
        "  else:\n",
        "    return losses[X2Y].sum(), losses[Y2X].sum(), None"
      ],
      "execution_count": 0,
      "outputs": []
    },
    {
      "cell_type": "code",
      "metadata": {
        "id": "iwNgOxExdBbW",
        "colab_type": "code",
        "colab": {}
      },
      "source": [
        "import numpy as np\n",
        "import torch\n",
        "\n",
        "from torch import optim\n",
        "import torch.nn.utils as torch_utils\n",
        "#from ignite.engine import Engine, Events\n",
        "\n",
        "VERBOSE_SILENT = 0\n",
        "VERBOSE_EPOCH_WISE = 1\n",
        "VERBOSE_BATCH_WISE = 2\n",
        "# 앞의 선언된 함수로 1 epoch 훈련\n",
        "\n",
        "def train_epoch(self,\n",
        "                train,\n",
        "                optimizers,\n",
        "                no_regularization=True,\n",
        "                verbose=VERBOSE_BATCH_WISE\n",
        "                ):\n",
        "  \n",
        "  total_loss, total_word_count = 0,0\n",
        "  total_grad_norm = 0\n",
        "  avg_loss, avg_grad_norm = 0,0\n",
        "  sample_cnt = 0\n",
        "\n",
        "  progress_bar = tqdm(train,\n",
        "                      desc = 'Training: ',\n",
        "                      unit = 'batch'\n",
        "                      ) if verbose is VERBOSE_BATCH_WISE else train\n",
        "\n",
        "  for idx, mini_batch in enumerate(progress_bar):\n",
        "    optimizers[X2Y].zero_grad()\n",
        "    optimizers[Y2X].zero_grad()\n",
        "    \n",
        "    x_0, y_0 = (mini_batch.src[0][:, 1:-1], # BOS, EOS 제거\n",
        "                mini_batch.src[1] - 2\n",
        "                ), mini_batch.tgt[0][:, :-1]\n",
        "\n",
        "    y_hat = self.models[X2Y](x_0, y_0)\n",
        "\n",
        "    with torch.no_grad():\n",
        "      y_lm = self.language_models[X2Y](y_0)\n",
        "\n",
        "    x_0, y_0_0, y_0_1, restore_indice = self._reordering(mini_batch.src[0][:, :-1],\n",
        "                                                         mini_batch.tgt[0][:, 1:-1],\n",
        "                                                         mini_batch.tgt[1] - 2\n",
        "                                                         )\n",
        "    y_0 = (y_0_0, y_0_1)\n",
        "\n",
        "    x_hat = self.models[Y2X](y_0, x_0).index_select(dim=0, index=restore_indice)\n",
        "\n",
        "    with torch.no_grad():\n",
        "      x_lm = self.language_models[Y2X](x_0)\n",
        "\n",
        "    x, y = mini_batch.src[0][:, 1:], mini_batch.tgt[0][:, 1:]\n",
        "    losses = self._get_loss(x,\n",
        "                            y,\n",
        "                            x_hat,\n",
        "                            y_hat,\n",
        "                            x_lm,\n",
        "                            y_lm,\n",
        "                            lagrange=self.config.dsl_lambda if not no_regularization else .0\n",
        "                            )\n",
        "    losses[X2Y].div(y.size(0)).backward()\n",
        "    losses[Y2X].div(x.size(0)).backward()\n",
        "    \n",
        "    word_count = int((mini_batch.src[1].detach().sum()) +\n",
        "                     (mini_batch.tgt[1].detach().sum())\n",
        "                     )\n",
        "    loss = float(losses[X2Y].detach() + losses[Y2X].detach()) - float(losses[-1].detach() * 2)\n",
        "    param_norm = float(utils.get_parameter_norm(self.models[X2Y].parameters()).detach() +\n",
        "                       utils.get_parameter_norm(self.models[Y2X].parameters()).detach()\n",
        "                       )\n",
        "    grad_norm = float(utils.get_grad_norm(self.models[X2Y].parameters()).detach() +\n",
        "                      utils.get_grad_norm(self.models[Y2X].parameters()).detach()\n",
        "                      )\n",
        "    total_loss += loss\n",
        "    total_word_count += total_word_count\n",
        "    total_grad_norm += total_grad_norm\n",
        "\n",
        "    avg_loss = total_loss / total_word_count\n",
        "    avg_grad_norm = total_grad_norm / (idx + 1)\n",
        "\n",
        "    if verbose is VERBOSE_BATCH_WISE:\n",
        "      progress_bar.set_postfix_str('|param|=%.2f |g_param|=%.2f loss=%.4e PPL= %.2f' % (param_norm,\n",
        "                                                                                        grad_norm,\n",
        "                                                                                        loss / word_count,\n",
        "                                                                                        exp(avg_loss)\n",
        "                                                                                        ))\n",
        "      \n",
        "    torch_utils.clip_grad_norm_(self.models[X2Y].parameters(),\n",
        "                                self.config.max_grad_norm\n",
        "                                )\n",
        "    torch_utils.clip_grad_norm_(self.models[Y2X].parameters(),\n",
        "                                self.config.max_grad_norm\n",
        "                                )\n",
        "    \n",
        "\n",
        "    optimizers[X2Y].step()\n",
        "    optimizers[Y2X].step()\n",
        "\n",
        "    sample_cnt += mini_batch.tgt[0].size(0)\n",
        "\n",
        "    if idx >= len(progress_bar) * self.config.train_ratio_per_epoch:\n",
        "      break\n",
        "\n",
        "    if verbose is VERBOSE_BATCH_WISE:\n",
        "      progress_bar.close()\n",
        "\n",
        "    return avg_loss, param_norm, avg_grad_norm"
      ],
      "execution_count": 0,
      "outputs": []
    },
    {
      "cell_type": "markdown",
      "metadata": {
        "id": "QNpy7oF2kZaI",
        "colab_type": "text"
      },
      "source": [
        ""
      ]
    }
  ]
}
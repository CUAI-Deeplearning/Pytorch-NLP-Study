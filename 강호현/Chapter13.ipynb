{
  "nbformat": 4,
  "nbformat_minor": 0,
  "metadata": {
    "colab": {
      "name": "Chapter 13.ipynb",
      "provenance": [],
      "private_outputs": true,
      "collapsed_sections": [],
      "authorship_tag": "ABX9TyPc8S+efKtUkD5HNEl8ntwG",
      "include_colab_link": true
    },
    "kernelspec": {
      "name": "python3",
      "display_name": "Python 3"
    }
  },
  "cells": [
    {
      "cell_type": "markdown",
      "metadata": {
        "id": "view-in-github",
        "colab_type": "text"
      },
      "source": [
        "<a href=\"https://colab.research.google.com/github/CUAI-Deeplearning/Pytorch-NLP-Study/blob/stats/%EA%B0%95%ED%98%B8%ED%98%84/Chapter13.ipynb\" target=\"_parent\"><img src=\"https://colab.research.google.com/assets/colab-badge.svg\" alt=\"Open In Colab\"/></a>"
      ]
    },
    {
      "cell_type": "markdown",
      "metadata": {
        "id": "lKseYw845Zum",
        "colab_type": "text"
      },
      "source": [
        "# 13. 듀얼리티의 활용\n",
        "## 13.1 들어가며\n",
        "\n",
        "* 듀얼리티(duality)\n",
        "  * 머신러닝을 통해 특정 도메인의 데이터 X를 받아 다른 도메인의 데이터 Y로 맵핑하는 함수를 근사\n",
        "  * 대부분의 머신러닝 데이터셋은 두 도메인 사이의 데이터로 구성된다.(오디오, 텍스트)\n",
        "\n",
        "  <img src=\"https://github.com/CUAI-Deeplearning/Pytorch-NLP-Study/blob/stats/%EA%B0%95%ED%98%B8%ED%98%84/asset/chap13/image1.png?raw=1\" width=\"50%\" height=\"50%\">\n"
      ]
    },
    {
      "cell_type": "markdown",
      "metadata": {
        "id": "zpq8YfQP9DKi",
        "colab_type": "text"
      },
      "source": [
        "* 듀얼리티 = 두 도메인 사이의 관계(음성 인식, 음성 합성)\n",
        "  * 대부분 머신러닝 문제가 가지는 듀얼리티 속성\n",
        "  * 기계번역 : 각 도메인 데이터 사이에 정보량 차이가 거의 없다(장점)\n",
        "  * 듀얼리티 적극적으로 활용하면 기계번역 고도화 가능하다."
      ]
    },
    {
      "cell_type": "markdown",
      "metadata": {
        "id": "fOys-93q9ewn",
        "colab_type": "text"
      },
      "source": [
        "* 데이터에 따른 듀얼리티 사례\n",
        "\n",
        "|$D_1$ 도메인 | $D_1 \\rightarrow D_2$ | $D_1 \\leftarrow D_2$ | $D_2$ 도메인 |\n",
        "| :-------- | :---------------------| :-------------------- |:---------- |\n",
        "| 문장 | 기계번역 | 기계번역 | 문장 |\n",
        "| 음성 신호 | 음성 인식 | 음성 합성 | 문장 |\n",
        "| 이미지 | 이미지 분류 | 이미지 합성 | 클래스|\n",
        "| 문서 | 요약 | 본문 생성 | 문장 |\n",
        "| 문장 | 텍스트 분류 | 문장 생성 | 클래스 |"
      ]
    },
    {
      "cell_type": "markdown",
      "metadata": {
        "id": "frSAeuhG95gb",
        "colab_type": "text"
      },
      "source": [
        "### 13.1.2 CycleGAN\n",
        "\n",
        "* 번역 이외 듀얼리티, 영상 처리에 관한 논문 CycleGAN\n",
        "* cycleGAN\n",
        "  * 짝지어지지 않은 두 도메인의 이미지가 있을 때, X 도메인의 이미지를 Y 도메인의 이미지로 변환 방법\n",
        "  * 사진의 전체 구조 유지하되 유명한 화가 모네 풍으로 바꾸거나 말을 얼룩말 / 민무늬 변경\n",
        "  * 겨울 풍경을 여름 풍경으로 변화 가능\n",
        "  * 예제  \n",
        "    <img src=\"https://github.com/CUAI-Deeplearning/Pytorch-NLP-Study/blob/stats/%EA%B0%95%ED%98%B8%ED%98%84/asset/chap13/image2.jpg?raw=1\" width=\"100%\" height=\"50%\">"
      ]
    },
    {
      "cell_type": "markdown",
      "metadata": {
        "id": "pK2sieWp_FyQ",
        "colab_type": "text"
      },
      "source": [
        "* $X\\rightarrow{Y}$ 와 $Y\\rightarrow{X}$ : 모두 각각 생성자 $G, F$ 와 판별자 $D_x, D_y$ 를 가지고 있어서 최소/최대화 게임 수행\n",
        "* $G$ : $x$ 를 입력으로 받아 $\\hat{y}$ 으로 변환\n",
        "* $D_Y$ : $\\hat{y}$ 또는 $y$ 를 입력으로 받아 합성한 이미지인지 원래 $Y$ 도메인의 이미지인지 예측\n",
        "* $F$ : $y$ 를 입력으로 받아 $\\hat{x}$ 으로 변환\n",
        "* $D_x$ : $\\hat{x}$ 또는 $x$ 를 입력으로 받아 합성 유부를 판단"
      ]
    },
    {
      "cell_type": "markdown",
      "metadata": {
        "id": "dfEvwgGBAJiN",
        "colab_type": "text"
      },
      "source": [
        "<img src=\"https://github.com/CUAI-Deeplearning/Pytorch-NLP-Study/blob/stats/%EA%B0%95%ED%98%B8%ED%98%84/asset/chap13/image3.png?raw=1\" width=\"100%\" height=\"50%\">"
      ]
    },
    {
      "cell_type": "markdown",
      "metadata": {
        "id": "XyMkPt95AVMh",
        "colab_type": "text"
      },
      "source": [
        "* $\\hat{X}, \\hat{Y}$를 합성할 때 기존의 도메인 X, Y에 실제로 속하는 이미지처럼 만들어야 한다.\n",
        "* $\\hat{X}, \\hat{Y}$에서 원래 데이터로 돌아올 수 있어야 한다.\n",
        "$\\rightarrow$ 기계번역에 적용"
      ]
    },
    {
      "cell_type": "markdown",
      "metadata": {
        "id": "kYVq48cMBcLK",
        "colab_type": "text"
      },
      "source": [
        "## 13.2 듀얼리티를 활용한 지도학습\n",
        "* 듀얼 지도학습(DSL, Dual Supervised Learning)\n",
        "  * 기존의 teacher-forcing 문제로 생기는 어려움을 해결할 때 강화학습 대신 듀얼리티에서 regularization term 이끌어내 해결한다.\n",
        "  * 베이즈 정리에 따른 수식(항상 성립)\n",
        "  $$P(y|x) = {P(x|y)P(y)} \\over {P(x)}$$\n",
        "  $$P(y|x)P(x) = P(x|y)P(y)$$"
      ]
    },
    {
      "cell_type": "markdown",
      "metadata": {
        "id": "z6GbG9yZC8TU",
        "colab_type": "text"
      },
      "source": [
        "* 이 수식대로 훈련한 모델은 다음 수식을 만족한다.\n",
        "$$P(x)P(y|x;\\theta_{y\\rightarrow x}) = P(y)P(x|y;\\theta_{y\\rightarrow x})\n",
        "$$\n",
        "$$ \\text{where } (x,y) \\sim \\mathcal{B} = \\{x_i,y_i\\}_{i=1}^N$$"
      ]
    },
    {
      "cell_type": "markdown",
      "metadata": {
        "id": "DXT16-VXDLgT",
        "colab_type": "text"
      },
      "source": [
        "* 이 전제를 번역 훈련을 위한 목표에 적용한다.\n",
        "\n",
        "$$objective1: \\text{min}_{\\theta_{x\\rightarrow y}} {1 \\over n} \\sum_{i=1}^n \\ell_1(f(x_i;\\theta{x\\rightarrow y}),y_i), $$\n",
        "\n",
        "$$objective2: \\text{min}_{\\theta_{y\\rightarrow x}} {1 \\over n} \\sum_{i=1}^n \\ell_1(g(x_i;\\theta{y\\rightarrow x}),x_i), $$\n",
        "\n",
        "$$s.t. P(x) P(y|x;\\theta_{x\\rightarrow y}) = P(y) P(x|y; \\theta_{y\\rightarrow x}), \\forall x,y $$"
      ]
    },
    {
      "cell_type": "markdown",
      "metadata": {
        "id": "RvcE-15vEM8B",
        "colab_type": "text"
      },
      "source": [
        "* 해석\n",
        "  * 목표 1 : 베이즈 정리에 따른 제약 조건 만족함과 동시에 $\\ell_1$을 최소화\n",
        "    * $\\ell_1$ : 번역함수 f에 입력 $x_i$를 넣어 나온 반환값과 $y_i$ 사이 손실\n",
        "  * 목표 2 : $\\ell_2$를 번역함수 $g$에 대해 같은 작업 수행하고 최소화하여 만족시킨다.\n",
        "    * $\\ell_2$ : 번역함수 g에 입력 $x_i$를 넣어 나온 반환값과 $y_i$ 사이 손실\n"
      ]
    },
    {
      "cell_type": "markdown",
      "metadata": {
        "id": "5gFe9STLG0Zb",
        "colab_type": "text"
      },
      "source": [
        "$\\mathcal{L}_{duality} = |\\left(\\log \\hat{P}(x) + \\log P(y|x;\\theta_{x\\rightarrow y})\\right) - \\left(\\log \\hat{P}(y) + \\log P(x|y;\\theta_{y\\rightarrow x})\\right) |^2$\n",
        "\n",
        "* 베이즈 정리에 따른 제약 조건의 양 변의 값의 차이를 최소화하는 MSE 손실 함수\n",
        "* 동시에 훈련시키는 신경망 가중치 파라미터 $\\rightarrow$ 각각 $\\log P(y|x;\\theta_{x\\rightarrow y}),\\log P(x|y;\\theta_{y\\rightarrow x}) $ 구한다.\n",
        "* 단일 언어 코퍼스로 미리 훈련시킨 언어 모델 $\\rightarrow \\log \\hat{P}(x), \\log \\hat{P}(y)$ 근사 가능하다."
      ]
    },
    {
      "cell_type": "markdown",
      "metadata": {
        "id": "lkbVXCp3LIzE",
        "colab_type": "text"
      },
      "source": [
        "* 기존의 손실 함수에 추가하여 동시에 최소화\n",
        "\n",
        "$$ \\theta_{x \\rightarrow y} \\leftarrow \\theta_{x \\rightarrow y} - \\gamma \\triangledown_{\\theta_{x \\rightarrow y}} {1 \\over n} \\sum_{i=1}^n [\\ell_1(f(x_i;\\theta_{x\\rightarrow y}),y_i) + \\lambda_{x \\rightarrow y} \\mathcal{L}_{duality}]\n",
        "$$\n",
        "\n",
        "\n",
        "$$ \\theta_{y \\rightarrow x} \\leftarrow \\theta_{y \\rightarrow x} - \\gamma \\triangledown_{\\theta_{y \\rightarrow x}} {1 \\over n} \\sum_{i=1}^n [\\ell_2(g(y_i;\\theta_{y\\rightarrow x}),x_i) + \\lambda_{y \\rightarrow x} \\mathcal{L}_{duality}]$$\n",
        "\n",
        "\n",
        "* $\\lambda$를 통해 손실함수 내 비율 조절 가능\n",
        "  * $\\lambda$ 는 하이퍼 파라미터, 0.01일 때 가장 좋은 성능을 보인다.\n",
        "  * DSL 방식이 기존의 teacher-forcing, MLE / MRT 보다 더 높은 성능을 보인다.\n",
        "  * Regularization term을 추가하여 훈련 까다롭고 비효율적인 강화학습보다 나은 성능을 보인다."
      ]
    },
    {
      "cell_type": "markdown",
      "metadata": {
        "id": "erIULVrJH0uv",
        "colab_type": "text"
      },
      "source": [
        "### 13.2.1 파이토치 예제 코드"
      ]
    },
    {
      "cell_type": "code",
      "metadata": {
        "id": "PwS4_bpqH7aK",
        "colab_type": "code",
        "colab": {}
      },
      "source": [
        "# simple_nmt와 dual_trainer.py\n",
        "X2Y, Y2X = 0, 1"
      ],
      "execution_count": 0,
      "outputs": []
    },
    {
      "cell_type": "code",
      "metadata": {
        "id": "h6m-s-T7OkuV",
        "colab_type": "code",
        "colab": {}
      },
      "source": [
        "def _reordering(self, x, y, l):\n",
        "  indice = l.topk(l.size(0))[1]\n",
        "  x_ = x.index_select(dim=0, index=indice).contiguous()\n",
        "  y_ = y.index_select(dim=0, index=indice).contiguous()\n",
        "  l_ = l.index_select(dim=0, index=indice).contiguous()\n",
        "\n",
        "  restore_indice = (-indice).topk(l.size(0))[1]\n",
        "\n",
        "  return x_,y_,l_, restore_indice"
      ],
      "execution_count": 0,
      "outputs": []
    },
    {
      "cell_type": "code",
      "metadata": {
        "id": "lXRmVOeASrMb",
        "colab_type": "code",
        "colab": {}
      },
      "source": [
        "def _get_loss(self, x, y, x_hat, y_hat, x_lm=None, y_lm=None, lagrange=1e-3):\n",
        "\n",
        "  losses = []\n",
        "  losses += [self.crits[X2Y](y_hat.contiguous().view(-1, y_hat.size(-1)),\n",
        "                             y.contiguous().view(-1)\n",
        "                             )]\n",
        "  losses += [self.crits[Y2X](x_hat.contiguous().view(-1, x_hat.size(-1)),\n",
        "                             x.contiguous().view(-1)\n",
        "                             )]\n",
        "\n",
        "  losses[X2Y] = losses[X2Y].view(y.size(0), -1).sum(dim=-1)\n",
        "  losses[Y2X] = losses[Y2X].view(x.size(0), -1).sum(dim=-1)\n",
        "\n",
        "  if x_lm is not None and y_lm is not None:\n",
        "    lm_losses = []\n",
        "    lm_losses += [self.crits[X2Y](y_lm.contiguous().view(-1, y_lm.size(-1)),\n",
        "                                  y.contiguous().view(-1)\n",
        "                                  )]\n",
        "    lm_losses += [self.crits[Y2X](x_lm.contiguous().view(-1, x_lm.size(-1)),\n",
        "                                  x.contiguous().view(-1)\n",
        "                                  )]\n",
        "    \n",
        "    lm_losses[X2Y] = lm_losses[X2Y].view(y.size(0), -1).sum(dim=-1)\n",
        "    lm_losses[Y2X] = lm_losses[Y2X].view(x.size(0), -1).sum(dim=-1)\n",
        "\n",
        "    dual_loss = lagrange * ((-lm_losses[Y2X] + -losses[X2Y].detach()) - \\\n",
        "                            (-lm_losses[X2Y] + -losses[Y2X].detach()))**2\n",
        "\n",
        "    dual_loss_x2y = lagrange * ((-lm_losses[Y2X] + -losses[X2Y]) - \\\n",
        "                                (-lm_losses[X2Y] + -losses[Y2X].detach()))**2\n",
        "    dual_loss_y2x = lagrange * ((-lm_losses[Y2X] + -losses[X2Y].detach()) - \\\n",
        "                                (-lm_losses[X2Y] + -losses[Y2X]))**2\n",
        "    \n",
        "    losses[X2Y] += dual_loss_x2y\n",
        "    losses[Y2X] += dual_loss_y2x\n",
        "\n",
        "\n",
        "  if x_lm is not None and y_lm is not None:\n",
        "    return losses[X2Y].sum(), losses[Y2X].sum(), dual_loss.sum()\n",
        "  else:\n",
        "    return losses[X2Y].sum(), losses[Y2X].sum(), None"
      ],
      "execution_count": 0,
      "outputs": []
    },
    {
      "cell_type": "code",
      "metadata": {
        "id": "iwNgOxExdBbW",
        "colab_type": "code",
        "colab": {}
      },
      "source": [
        "import numpy as np\n",
        "import torch\n",
        "\n",
        "from torch import optim\n",
        "import torch.nn.utils as torch_utils\n",
        "#from ignite.engine import Engine, Events\n",
        "\n",
        "VERBOSE_SILENT = 0\n",
        "VERBOSE_EPOCH_WISE = 1\n",
        "VERBOSE_BATCH_WISE = 2\n",
        "# 앞의 선언된 함수로 1 epoch 훈련\n",
        "\n",
        "def train_epoch(self,\n",
        "                train,\n",
        "                optimizers,\n",
        "                no_regularization=True,\n",
        "                verbose=VERBOSE_BATCH_WISE\n",
        "                ):\n",
        "  \n",
        "  total_loss, total_word_count = 0,0\n",
        "  total_grad_norm = 0\n",
        "  avg_loss, avg_grad_norm = 0,0\n",
        "  sample_cnt = 0\n",
        "\n",
        "  progress_bar = tqdm(train,\n",
        "                      desc = 'Training: ',\n",
        "                      unit = 'batch'\n",
        "                      ) if verbose is VERBOSE_BATCH_WISE else train\n",
        "\n",
        "  for idx, mini_batch in enumerate(progress_bar):\n",
        "    optimizers[X2Y].zero_grad()\n",
        "    optimizers[Y2X].zero_grad()\n",
        "    \n",
        "    x_0, y_0 = (mini_batch.src[0][:, 1:-1], # BOS, EOS 제거\n",
        "                mini_batch.src[1] - 2\n",
        "                ), mini_batch.tgt[0][:, :-1]\n",
        "\n",
        "    y_hat = self.models[X2Y](x_0, y_0)\n",
        "\n",
        "    with torch.no_grad():\n",
        "      y_lm = self.language_models[X2Y](y_0)\n",
        "\n",
        "    x_0, y_0_0, y_0_1, restore_indice = self._reordering(mini_batch.src[0][:, :-1],\n",
        "                                                         mini_batch.tgt[0][:, 1:-1],\n",
        "                                                         mini_batch.tgt[1] - 2\n",
        "                                                         )\n",
        "    y_0 = (y_0_0, y_0_1)\n",
        "\n",
        "    x_hat = self.models[Y2X](y_0, x_0).index_select(dim=0, index=restore_indice)\n",
        "\n",
        "    with torch.no_grad():\n",
        "      x_lm = self.language_models[Y2X](x_0)\n",
        "\n",
        "    x, y = mini_batch.src[0][:, 1:], mini_batch.tgt[0][:, 1:]\n",
        "    losses = self._get_loss(x,\n",
        "                            y,\n",
        "                            x_hat,\n",
        "                            y_hat,\n",
        "                            x_lm,\n",
        "                            y_lm,\n",
        "                            lagrange=self.config.dsl_lambda if not no_regularization else .0\n",
        "                            )\n",
        "    losses[X2Y].div(y.size(0)).backward()\n",
        "    losses[Y2X].div(x.size(0)).backward()\n",
        "    \n",
        "    word_count = int((mini_batch.src[1].detach().sum()) +\n",
        "                     (mini_batch.tgt[1].detach().sum())\n",
        "                     )\n",
        "    loss = float(losses[X2Y].detach() + losses[Y2X].detach()) - float(losses[-1].detach() * 2)\n",
        "    param_norm = float(utils.get_parameter_norm(self.models[X2Y].parameters()).detach() +\n",
        "                       utils.get_parameter_norm(self.models[Y2X].parameters()).detach()\n",
        "                       )\n",
        "    grad_norm = float(utils.get_grad_norm(self.models[X2Y].parameters()).detach() +\n",
        "                      utils.get_grad_norm(self.models[Y2X].parameters()).detach()\n",
        "                      )\n",
        "    total_loss += loss\n",
        "    total_word_count += total_word_count\n",
        "    total_grad_norm += total_grad_norm\n",
        "\n",
        "    avg_loss = total_loss / total_word_count\n",
        "    avg_grad_norm = total_grad_norm / (idx + 1)\n",
        "\n",
        "    if verbose is VERBOSE_BATCH_WISE:\n",
        "      progress_bar.set_postfix_str('|param|=%.2f |g_param|=%.2f loss=%.4e PPL= %.2f' % (param_norm,\n",
        "                                                                                        grad_norm,\n",
        "                                                                                        loss / word_count,\n",
        "                                                                                        exp(avg_loss)\n",
        "                                                                                        ))\n",
        "      \n",
        "    torch_utils.clip_grad_norm_(self.models[X2Y].parameters(),\n",
        "                                self.config.max_grad_norm\n",
        "                                )\n",
        "    torch_utils.clip_grad_norm_(self.models[Y2X].parameters(),\n",
        "                                self.config.max_grad_norm\n",
        "                                )\n",
        "    \n",
        "\n",
        "    optimizers[X2Y].step()\n",
        "    optimizers[Y2X].step()\n",
        "\n",
        "    sample_cnt += mini_batch.tgt[0].size(0)\n",
        "\n",
        "    if idx >= len(progress_bar) * self.config.train_ratio_per_epoch:\n",
        "      break\n",
        "\n",
        "    if verbose is VERBOSE_BATCH_WISE:\n",
        "      progress_bar.close()\n",
        "\n",
        "    return avg_loss, param_norm, avg_grad_norm"
      ],
      "execution_count": 0,
      "outputs": []
    },
    {
      "cell_type": "markdown",
      "metadata": {
        "id": "QNpy7oF2kZaI",
        "colab_type": "text"
      },
      "source": [
        "### 13.2.2 실험 결과\n",
        "\n",
        "* BLEU 수치상 DSL이 가장 높은 성능을 보인다.(MLE < MRT < DSL)\n",
        "\n",
        "* teacher-forcing 사용하면서 샘플링 기반 학습효율 저하 없이 간단한 regularization term을 손실함수에 더하여 더 나은 성능의 기계번역 모델을 학습할 수 있다."
      ]
    },
    {
      "cell_type": "markdown",
      "metadata": {
        "id": "hH8cVnEcls5w",
        "colab_type": "text"
      },
      "source": [
        "## 13.3 듀얼리티를 활용한 비지도학습\n",
        "\n",
        "### 13.3.1 듀얼 러닝 기계번역\n",
        "* 직접 미분 값을 전달할 수 없으나 CycleGAN과 비슷한 개념이다.\n",
        "* 병렬 코퍼스로 훈련된 기본 성능을 단일 코퍼스로 그 성능을 극대화하고자 한다.\n",
        "* 그래디언트를 전달할 수 없으므로, 강화학습을 활용해 판별자 값을 전달해야 한다.\n",
        "\n",
        "* 단일 언어 코퍼스에서 받은 문장 s 번역하고, 번역된 문장 $s_{mid}$를 사용해 반대 방향 번역을 통해 복원\n",
        "* 복원된 문장 $\\hat{s}$이 원래 처음 문장과의 차이 $\\Delta(\\hat{s},s)$가 최소화되도록 훈련\n",
        "  * 번역된 문장 $s_{mid}$가 얼마나 자연스럽게 해당 언어의 문장이 되었는지 여부가 중요한 지표가 된다.\n",
        "\n",
        "* 알고리즘\n",
        "  * Language A, Language B 두 개 도메인 문장들이 주어진다.\n",
        "  * 생성자 $G_{A \\rightarrow B}$의 파라미터 $\\theta_{AB}$, 반대 방향 생성자 $F_{B \\rightarrow A}$의 파라미터 $\\theta_{BA}$ : 병렬 코퍼스로 사전훈련된 상태\n",
        "  * 폴리시 그래디언트를 통한 파라미터 업데이트\n",
        "\n",
        "  $$\\theta_{AB} \\leftarrow \\theta_{AB} + \\gamma\\triangledown_{\\theta_{AB}} \\hat{\\mathbb{E}}[r]$$\n",
        "  $$\\theta_{BA} \\leftarrow \\theta_{BA} + \\gamma\\triangledown_{\\theta_{BA}} \\hat{\\mathbb{E}}[r]$$\n",
        "\n",
        "    * $\\hat{\\mathbb{E}}[r]$ 각각의 파라미터에 대해 미분한 값을 더해주는 것을 확인한다.\n",
        "  * 보상의 기댓값\n",
        "  $$r = \\lambda \\cdot r_{AB} + (1-\\lambda) \\cdot r_{BA},$$\n",
        "  $$\\text{ where } r_{AB} = LM_B(s_{mid})$$\n",
        "  $$\\text{and }r_{AB} = \\log P(s|s_{mid};\\theta_{BA})$$\n",
        "\n",
        "    * k개의 샘플링 문장에 대해 각 방향에 대한 보상 각각 구하고 이를 선형결합한다.\n",
        "    * $s_{mid}$ : 샘플링한 문장, $LM_{B}$로 해당 문장이 Language B의 집합에 어울리는지 보상값 계산\n",
        "    * $LM_B$ : 언어 모델로 기존의 Language B의 단일 언어 코퍼스로 사전 훈련되어 있다.\n",
        "      * 자연스러운 문장이 생성될수록 해당 언어 모델에서 높은 확률을 가질 것이다.\n",
        "      * 다수의 단일 언어 코퍼스를 가지므로 언어 모델 만드는 것은 어렵지 않다.?\n",
        "\n",
        "  $$\\triangledown_{\\theta_{AB}} \\hat{\\mathbb{E}} = {1 \\over K} \\sum_{k=1}^K [r_k \\triangledown_{\\theta_{AB}} \\log P(s_{mid, k} | s; \\theta_{AB})]\n",
        "  $$\n",
        "\n",
        "  $$\\triangledown_{\\theta_{AB}} \\hat{\\mathbb{E}} = {1 \\over K} \\sum_{k=1}^K [(1-\\lambda) \\triangledown_{\\theta_{BA}} \\log P(s | s_{mid, k} ; \\theta_{BA})]\n",
        "  $$\n"
      ]
    },
    {
      "cell_type": "markdown",
      "metadata": {
        "id": "UE6Ms1_XoG4P",
        "colab_type": "text"
      },
      "source": [
        "* 듀얼 러닝이 가장 뛰어난 성능 개선을 보인다."
      ]
    },
    {
      "cell_type": "markdown",
      "metadata": {
        "id": "0jFF5UuU0tyF",
        "colab_type": "text"
      },
      "source": [
        "* 문장의 길이와 상관없이 모든 구간에서 베이스라인 NMT를 압도한다.\n",
        "  * 병렬 코퍼스의 양이 커질수록 단일 언어 코퍼스를 활용한 듀얼 러닝에 의한 성능 향상의 폭은 감소한다.\n",
        "  * 강화학습과 듀얼리티 접목 $\\rightarrow$ 적은 양의 병렬 코퍼스와 다수의 단일 언어 코퍼스 활용해 번역기 성능을 효과적으로 개선하였다.\n",
        "\n",
        "  "
      ]
    },
    {
      "cell_type": "markdown",
      "metadata": {
        "id": "Mb5NfQAA3exn",
        "colab_type": "text"
      },
      "source": [
        "### 13.3.2 듀얼 비지도학습\n",
        "* 듀얼 지도학습(DSL) : 베이즈 정리에 따른 수식으로 제약 조건\n",
        "* DUL : 주변 분포의 성질 이용해서 제약 조건 만든다.\n",
        "  * 주변 분포\n",
        "  $$ P(y) = \\sum_{x \\in \\mathcal{X}} P(x, y) = \\sum_{x \\in \\mathcal{X}} P(y|x) P(x)  $$\n",
        "\n",
        "  * 위의 수식이 항상 참이다. 조건부 확률로 나타낼 수 있고, 기댓값 표현으로 바꿀 수 있다.\n",
        "  * K번 샘플링해 몬테카를로 샘플링으로 근사하여 표현 가능.\n",
        "\n",
        "$$ P(y) = \\sum_{x \\in \\mathcal{X}} P(y|x;\\theta) P(x) = \\mathbb{E}_{X \\sim P(X)}[P(y|x;\\theta)]\n",
        "$$\n",
        "$$ \\approx {1 \\over K} \\sum_{i=1}^K P(y|x^i ; \\theta), \\text{ where }x^i \\sim P(x) $$\n"
      ]
    },
    {
      "cell_type": "markdown",
      "metadata": {
        "id": "JbJrxuoA5rzH",
        "colab_type": "text"
      },
      "source": [
        "* 기계번역에 적용\n",
        "  * N개 소스 문장x, 타깃 문장y로 구성된 양방향 병렬 코퍼스 $\\mathcal{B}$\n",
        "  * S개 타깃 문장y로만 구성된 단일 언어 코퍼스 $\\mathcal{M}$ 가정\n",
        "\n",
        "$$ \\mathcal{B} = \\{(x^n, y^n\\}_{n=1}^N\n",
        "$$\n",
        "$$\\mathcal{M} = \\{y^s\\}_{s=1}^S$$"
      ]
    },
    {
      "cell_type": "markdown",
      "metadata": {
        "id": "32LYPD3h6Qfy",
        "colab_type": "text"
      },
      "source": [
        "* 조건 : 목적 함수를 최대화 + 주변 분포 제약 조건 만족\n",
        "\n",
        "$$Objective : \\sum_{i=1}^N \\log P(y^n | x^n;\\theta),$$\n",
        "$$\\text{s.t. }P(y) = \\mathbb{E}_{x \\sim P(x)} [P(y|x;\\theta)], \\forall y \\in \\mathcal{M}$$\n",
        "\n"
      ]
    },
    {
      "cell_type": "markdown",
      "metadata": {
        "id": "OltcNd1Q7k7Q",
        "colab_type": "text"
      },
      "source": [
        "* $\\lambda$와 함께 $S(\\theta)$로 표현하여 기존의 손실함수에 추가\n",
        "\n",
        "$$ S(\\theta) = [\\log \\hat{P}(y) - \\log \\mathbb{E}_{x \\sim \\hat{P}(x)} [P(y|x;\\theta)]]^2\n",
        "$$\n",
        "$$\\mathcal{L}(\\theta) = - \\sum_{n=1}^N \\log P(y^n | x^n;\\theta) + \\lambda \\mathcal{S}(\\theta)$$\n",
        "$$= - \\sum_{n=1}^N \\log P(y^n | x^n;\\theta) + \\lambda \\sum_{s=1}^S[\\log \\hat{P}(y^s) - \\log \\mathbb{E}_{x \\sim \\hat{P}(x)}[P(y^s|x;\\theta)]]^2\n",
        "$$"
      ]
    },
    {
      "cell_type": "markdown",
      "metadata": {
        "id": "mHSyPRL_8ol9",
        "colab_type": "text"
      },
      "source": [
        "* $\\hat{P}(y)$ : 단일 언어 코퍼스로 만든 언어 모델을 통해 계산한 각 문장들의 확률값\n",
        "  * 이를 통해 소스 문장 x를 샘플링하여 네트워크 $\\theta$ 통과시켜 $P(y|x;\\theta)$ 구해야하나 다른 접근 사용"
      ]
    },
    {
      "cell_type": "markdown",
      "metadata": {
        "id": "Me8k-gg29Agi",
        "colab_type": "text"
      },
      "source": [
        "* 중요도 표집을 통해 타깃 언어 문장 y를 반대 방향 번역기($y \\rightarrow x$)에 넣어 K개의 소스 언어 문장 x를 샘플링하여 P(y) 구한다.\n",
        "\n",
        "$$P(y) = \\mathbb{E}_{x \\sim \\hat{P}(x)}[P(y|x;\\theta)] = \\sum_{x \\in \\mathcal{X}} P(y|x;\\theta)\\hat{P}(x)$$\n",
        "$$= \\sum_{x \\in \\mathcal{X}} {P(y|x;\\theta)\\hat{P}(x) \\over P(x|y)} P(x|y)$$\n",
        "$$= \\mathbb{E}_{x \\sim P(x|y)} \\left[{P(y|x;\\theta)\\hat{P}(x)\\over P(x|y)}\\right]$$\n",
        "$$\\approx {1 \\over K} \\sum_{i=1}^K {{P(y|x_i;\\theta)\\hat{P}(x_i)} \\over {P(x_i | y)}}, x_i \\sim P(x|y)$$"
      ]
    },
    {
      "cell_type": "markdown",
      "metadata": {
        "id": "FYILPACI-4QQ",
        "colab_type": "text"
      },
      "source": [
        "* 위 과정을 하나의 손실 함수로 표현\n",
        "\n",
        "$$\\mathcal{L}(\\theta) \\approx -\\sum_{n=1}^N \\log P(y^n|x^n;\\theta) + \\lambda \\sum_{s=1}^S [\\log \\hat{P}(y^s) - \\log {1 \\over K} \\sum_{i=1}^K {\\hat{P}(x_i) P(y^s|x_i \\theta) \\over P(x_i|y^s)}]^2$$\n",
        "\n",
        "  * $\\sum_{n=1}^N \\log P(y^n|x^n;\\theta)$ : 문장 $x^n$이 주어질 때 $y^n$의 확률을 최대로 하는 $\\theta$ 찾는다.\n",
        "  * 두 번째 항 : 단일 언어 코퍼스에서 주어진 문장 $y^s$ 언어 모델에서의 확률값 $\\log \\hat{P}(y^s)$와의 차이를 줄인다.\n",
        "  * 반대 방향 번역기를 통해 K번 샘플링한 문장 $x_i$의 언어 모델 확률값 $\\hat{P}(x_i), x_i$ 주어질 때, $y^s$ 확률값 곱하고, 문장 $y^s$가 주어질 때 샘플링한 문장 $x_i$의 확률값으로 나누어준 값이 된다."
      ]
    },
    {
      "cell_type": "markdown",
      "metadata": {
        "id": "xMAQRbHU_VKQ",
        "colab_type": "text"
      },
      "source": [
        "* 듀얼 비지도학습(DUL)은 기존 단일 언어 코퍼스 활용하는 알고리즘 방법들보다 최종적으로 가장 뛰어남을 알 수 있다.\n",
        "  * 듀얼러닝(DSL)보다 뛰어나고 불안정하고 비효율적인 강화학습 안쓰고도 더 나은 성능을 보인다."
      ]
    },
    {
      "cell_type": "markdown",
      "metadata": {
        "id": "goI_yXMIAJQs",
        "colab_type": "text"
      },
      "source": [
        "## 13.4 쉬어가기: back-translation 재해석하기\n",
        "\n",
        "* back-translation을 듀얼리티 관점에서 수식으로 해석해서 잘 동작하는지 설명\n",
        "* N개의 소스 문장x, 타깃 문장y로 구성된 양방향 병렬 코퍼스 B\n",
        "* S개의 타깃 문장 y로만 이루어진 단일 언어 코퍼스 M 가정\n",
        "$$B = \\{(x^n, y^n)\\}_{n=1}^N$$\n",
        "$$M = \\{y^s\\}_{s=1}^S$$"
      ]
    },
    {
      "cell_type": "markdown",
      "metadata": {
        "id": "MQxRLgJbBUOl",
        "colab_type": "text"
      },
      "source": [
        "* 최소화하려는 손실 함수\n",
        "$$\\mathcal{L}(\\theta) = -\\sum_{n=1}^N \\log P(y^n | x^n;\\theta) - \\sum_{s=1}^S \\log P(y^s)$$"
      ]
    },
    {
      "cell_type": "markdown",
      "metadata": {
        "id": "Dh1ZcnkgBztN",
        "colab_type": "text"
      },
      "source": [
        "* P(y)를 주변 분포의 속성으로 표현  \n",
        "$\\log P(y) = \\log \\sum_{x \\in \\mathcal{X}} P(y|x) P(x)$  \n",
        "$\\phantom{\\log P(y)} = \\log \\sum_{x \\in \\mathcal{X}} P(x|y) {P(y|x) P(x)\\over P(x|y)}$  \n",
        "$\\phantom{\\log P(y)} \\ge \\sum_{x \\in \\mathcal{X}} P(x|y) \\log {P(y|x) P(x) \\over P(x|y)}$  \n",
        "$\\phantom{\\log P(y)} = \\mathbb{E}_{x \\sim P(x|y)} [\\log P(y|x) + \\log {P(x) \\over P(x|y)}]$  \n",
        "$\\phantom{\\log P(y)} = \\mathbb{E}_{x \\sim P(x|y)} [\\log P(y|x)] + \\mathbb{E}_{x \\sim P(x|y)} \\left[\\log {P(x) \\over P(x|y)}\\right]$  \n",
        "$\\phantom{\\log P(y)} = \\mathbb{E}_{x \\sim P(x|y)} [\\log P(y|x)] - \\text{KL} \\left(P(x|y)\\parallel P(x)\\right)$  "
      ]
    },
    {
      "cell_type": "markdown",
      "metadata": {
        "id": "GapFpaU8DiLW",
        "colab_type": "text"
      },
      "source": [
        "* 젠센 부등식 정리로 항상 $ \\log P(y)$보다 작거나 같은 수식으로 정리 가능\n",
        "* 젠센 부등식(Jensen's inequality)\n",
        "  * 로그의 함수 곡선 이용\n",
        "\n",
        "* 이 성질로 증명이 가능하며 양변에 음의 부호를 취하면 다음과 같다.\n",
        "$$-\\log P(y) \\le -\\mathbb{E}_{x \\sim P(x|y)} [\\log P(y|x)] + \\text{KL}(P(x|y) \\parallel P(x))$$"
      ]
    },
    {
      "cell_type": "markdown",
      "metadata": {
        "id": "Wd87OnkmEDJv",
        "colab_type": "text"
      },
      "source": [
        "* 위 부등호가 항상 성립하므로, $-\\log P(y)$ 보다 항상 큰 수식을 최소화 한다.  \n",
        "$\\Leftrightarrow -\\log P(y)$을 최소화한다.\n",
        "* $\\mathcal{L}(\\theta)$ 에 이 수식을 대입한다.  \n",
        "$\\mathcal{L}(\\theta) \\le -\\sum_{n=1}^N \\log P(y^n|x^n;\\theta)  -\\sum_{s=1}^S(\\mathbb{E}_{x \\sim P(x|y^s)}[\\log P(y^s | x;\\theta)] - \\text{KL}(P(x|y^s) \\parallel P(x))) $\n",
        "$\\phantom{\\mathcal{L}(\\theta)} \\approx -\\sum_{n=1}^N \\log P(y^n|x^n;\\theta) - {1 \\over K} \\sum_{s=1}^S \\sum_{i=1}^K \\log P(y^s|x_i;\\theta)+\\sum_{s=1}^S \\text{KL} (P(x|y^s) \\parallel P(x))$  \n",
        "$\\phantom{\\mathcal{L}(\\theta)} = \\tilde{\\mathcal{L}}(\\theta)$"
      ]
    },
    {
      "cell_type": "markdown",
      "metadata": {
        "id": "-3PimJ-rGefG",
        "colab_type": "text"
      },
      "source": [
        "* 결과적으로 $\\tilde{\\mathcal{L}}(\\theta)$ 최소하하고자 경사하강법 수행하여 최적화\n",
        "* 새로운 손실 함수를 $\\theta$에 대해 미분하고, 쿨백-라이블러 발산(KLD)는 $\\theta$에 대해 상수이므로 생략된다.  "
      ]
    },
    {
      "cell_type": "markdown",
      "metadata": {
        "id": "F8v2ERMDHh8f",
        "colab_type": "text"
      },
      "source": [
        "\n",
        "$$\\triangledown_{\\theta} \\tilde{\\mathcal{L}}(\\theta) = - \\sum_{n=1}^N \\triangledown_{\\theta} \\log P(y^n|x^n;\\theta)-{1\\over K} \\sum_{s=1}^S \\sum_{i=1}^K \\triangledown_\\theta \\log P(y^s|x_i;\\theta)$$"
      ]
    },
    {
      "cell_type": "markdown",
      "metadata": {
        "id": "yMZDWDbhHCva",
        "colab_type": "text"
      },
      "source": [
        "* 손실 함수 각 부분의 의미\n",
        "  * 첫 번째 항($\\sum_{n=1}^N \\triangledown_{\\theta} \\log P(y^n|x^n;\\theta)$) : $x^n$이 주어질 때 $y^n$의 확률을 최대로 하는 $\\theta$ 찾는다.\n",
        "  * 두 번째 항(${1\\over K} \\sum_{s=1}^S \\sum_{i=1}^K \\triangledown_\\theta \\log P(y^s|x_i;\\theta)$) : 샘플링된 문장 $x^i$이 주어질 때, 단일 언어 코퍼스의 문장 $y^s$가 나올 평균 확률을 최대로 하는 $\\theta$ 찾는다.  \n",
        "  $\\therefore$ back-translation 수행 $\\leftrightarrow$ $\\tilde{\\mathcal{L}}(\\theta)$ 최소화"
      ]
    }
  ]
}